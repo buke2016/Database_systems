{
 "cells": [
  {
   "cell_type": "code",
   "execution_count": 4,
   "metadata": {},
   "outputs": [
    {
     "name": "stdout",
     "output_type": "stream",
     "text": [
      "Connection to dvdrental database successful\n",
      "(133, 'Chamber Italian', 'A Fateful Reflection of a Moose And a Husband who must Overcome a Monkey in Nigeria', 2006, 1, 7, Decimal('4.99'), 117, Decimal('14.99'), 'NC-17', datetime.datetime(2013, 5, 26, 14, 50, 58, 951000), ['Trailers'], \"'chamber':1 'fate':4 'husband':11 'italian':2 'monkey':16 'moos':8 'must':13 'nigeria':18 'overcom':14 'reflect':5\")\n",
      "(384, 'Grosse Wonderful', 'A Epic Drama of a Cat And a Explorer who must Redeem a Moose in Australia', 2006, 1, 5, Decimal('4.99'), 49, Decimal('19.99'), 'R', datetime.datetime(2013, 5, 26, 14, 50, 58, 951000), ['Behind the Scenes'], \"'australia':18 'cat':8 'drama':5 'epic':4 'explor':11 'gross':1 'moos':16 'must':13 'redeem':14 'wonder':2\")\n",
      "(8, 'Airport Pollock', 'A Epic Tale of a Moose And a Girl who must Confront a Monkey in Ancient India', 2006, 1, 6, Decimal('4.99'), 54, Decimal('15.99'), 'R', datetime.datetime(2013, 5, 26, 14, 50, 58, 951000), ['Trailers'], \"'airport':1 'ancient':18 'confront':14 'epic':4 'girl':11 'india':19 'monkey':16 'moos':8 'must':13 'pollock':2 'tale':5\")\n",
      "(98, 'Bright Encounters', 'A Fateful Yarn of a Lumberjack And a Feminist who must Conquer a Student in A Jet Boat', 2006, 1, 4, Decimal('4.99'), 73, Decimal('12.99'), 'PG-13', datetime.datetime(2013, 5, 26, 14, 50, 58, 951000), ['Trailers'], \"'boat':20 'bright':1 'conquer':14 'encount':2 'fate':4 'feminist':11 'jet':19 'lumberjack':8 'must':13 'student':16 'yarn':5\")\n",
      "(1, 'Academy Dinosaur', 'A Epic Drama of a Feminist And a Mad Scientist who must Battle a Teacher in The Canadian Rockies', 2006, 1, 6, Decimal('0.99'), 86, Decimal('20.99'), 'PG', datetime.datetime(2013, 5, 26, 14, 50, 58, 951000), ['Deleted Scenes', 'Behind the Scenes'], \"'academi':1 'battl':15 'canadian':20 'dinosaur':2 'drama':5 'epic':4 'feminist':8 'mad':11 'must':14 'rocki':21 'scientist':12 'teacher':17\")\n"
     ]
    }
   ],
   "source": [
    "import psycopg2\n",
    "import pandas as pd \n",
    "\n",
    "# Define the connection parameters\n",
    "connection_params = {\n",
    "    \"host\": \"localhost\",\n",
    "    \"database\": \"dvdrental\",\n",
    "    \"user\": \"postgres\",\n",
    "    \"password\": \"19881114$\",\n",
    "    \"port\": \"5432\"\n",
    "}\n",
    "\n",
    "# Establish a database connection\n",
    "try:\n",
    "    connection = psycopg2.connect(**connection_params)\n",
    "    print(\"Connection to dvdrental database successful\")\n",
    "\n",
    "    # Create a cursor object\n",
    "    cursor = connection.cursor()\n",
    "\n",
    "    # Define a sample query to test the connection\n",
    "    query = \"SELECT * FROM film LIMIT 5;\"\n",
    "\n",
    "    # Execute the query\n",
    "    cursor.execute(query)\n",
    "\n",
    "    # Fetch the results\n",
    "    results = cursor.fetchall()\n",
    "\n",
    "    # Print the results\n",
    "    for row in results:\n",
    "        print(row)\n",
    "\n",
    "    # Close the cursor and connection\n",
    "    cursor.close()\n",
    "    connection.close()\n",
    "\n",
    "except Exception as error:\n",
    "    print(f\"Error: {error}\")"
   ]
  },
  {
   "cell_type": "code",
   "execution_count": 8,
   "metadata": {},
   "outputs": [
    {
     "ename": "SyntaxError",
     "evalue": "invalid syntax (3418127304.py, line 1)",
     "output_type": "error",
     "traceback": [
      "\u001b[1;36m  Cell \u001b[1;32mIn[8], line 1\u001b[1;36m\u001b[0m\n\u001b[1;33m    SELECT DISTINCT name\u001b[0m\n\u001b[1;37m           ^\u001b[0m\n\u001b[1;31mSyntaxError\u001b[0m\u001b[1;31m:\u001b[0m invalid syntax\n"
     ]
    }
   ],
   "source": [
    "SELECT DISTINCT name\n",
    "FROM category\n",
    "ORDER BY name"
   ]
  },
  {
   "cell_type": "code",
   "execution_count": 6,
   "metadata": {},
   "outputs": [
    {
     "ename": "SyntaxError",
     "evalue": "invalid syntax (1908439706.py, line 1)",
     "output_type": "error",
     "traceback": [
      "\u001b[1;36m  Cell \u001b[1;32mIn[6], line 1\u001b[1;36m\u001b[0m\n\u001b[1;33m    SELECT title, film.length, category.name\u001b[0m\n\u001b[1;37m           ^\u001b[0m\n\u001b[1;31mSyntaxError\u001b[0m\u001b[1;31m:\u001b[0m invalid syntax\n"
     ]
    }
   ],
   "source": [
    "SELECT title, film.length, category.name \n",
    "FROM film\n",
    "JOIN film_category\n",
    "ON film_category.film_id = film.film_id\n",
    "JOIN category\n",
    "ON film_category.category_id = category.category_id\n",
    "WHERE film.length BETWEEN 70 AND 100 \n",
    "OR category.name = 'Horror'\n",
    "ORDER BY film.length;"
   ]
  },
  {
   "cell_type": "code",
   "execution_count": 7,
   "metadata": {},
   "outputs": [
    {
     "ename": "SyntaxError",
     "evalue": "invalid syntax (1595290985.py, line 1)",
     "output_type": "error",
     "traceback": [
      "\u001b[1;36m  Cell \u001b[1;32mIn[7], line 1\u001b[1;36m\u001b[0m\n\u001b[1;33m    -- Query to select films with length between 70 and 100 or category 'Horror'\u001b[0m\n\u001b[1;37m             ^\u001b[0m\n\u001b[1;31mSyntaxError\u001b[0m\u001b[1;31m:\u001b[0m invalid syntax\n"
     ]
    }
   ],
   "source": [
    "-- Query to select films with length between 70 and 100 or category 'Horror'\n",
    "SELECT title, length, name\n",
    "FROM film\n",
    "JOIN film_category ON film.film_id = film_category.film_id\n",
    "JOIN category ON film_category.category_id = category.category_id\n",
    "WHERE length BETWEEN 70 AND 100\n",
    "   OR name = 'Horror'\n",
    "ORDER BY length;\n",
    "\n",
    "-- Query to get the count of rentals for each film\n",
    "EXPLAIN ANALYZE\n",
    "SELECT\n",
    "    film.title,\n",
    "    (SELECT COUNT(*)\n",
    "     FROM rental\n",
    "     JOIN inventory ON rental.inventory_id = inventory.inventory_id\n",
    "     WHERE inventory.film_id = film.film_id) AS rental_count\n",
    "FROM film\n",
    "ORDER BY rental_count DESC;"
   ]
  },
  {
   "cell_type": "code",
   "execution_count": null,
   "metadata": {},
   "outputs": [],
   "source": [
    "-- Query to select films with length between 70 and 100 or category 'Horror'\n",
    "# SELECT title, length, name\n",
    "# FROM film\n",
    "# JOIN film_category ON film.film_id = film_category.film_id\n",
    "# JOIN category ON film_category.category_id = category.category_id\n",
    "# WHERE length BETWEEN 70 AND 100\n",
    "#    OR name = 'Horror'\n",
    "# ORDER BY length;"
   ]
  }
 ],
 "metadata": {
  "kernelspec": {
   "display_name": "Python 3",
   "language": "python",
   "name": "python3"
  },
  "language_info": {
   "codemirror_mode": {
    "name": "ipython",
    "version": 3
   },
   "file_extension": ".py",
   "mimetype": "text/x-python",
   "name": "python",
   "nbconvert_exporter": "python",
   "pygments_lexer": "ipython3",
   "version": "3.12.1"
  }
 },
 "nbformat": 4,
 "nbformat_minor": 2
}

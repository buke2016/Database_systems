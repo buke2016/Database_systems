{
 "cells": [
  {
   "cell_type": "code",
   "execution_count": null,
   "metadata": {},
   "outputs": [],
   "source": []
  },
  {
   "cell_type": "code",
   "execution_count": null,
   "metadata": {},
   "outputs": [],
   "source": [
    "# write code for european database soccer datasets using sqlalchemy\n",
    "# 1. Create a database called soccer\n",
    "# 2. Create a table called players with the following columns:\n",
    "#    - id (int, primary key)\n",
    "#    - name (string)\n",
    "#    - age\n",
    "#    - position (string)\n",
    "# 3. Create a table called teams with the following columns:\n",
    "#    - id (int, primary key)\n",
    "#    - name (string)\n",
    "#    - city (string)\n",
    "#    - country (string)\n",
    "# 4. Create a table called player_teams with the following columns:\n",
    "#    - id (int, primary key)\n",
    "#    - player_id (int, foreign key to players.id)\n",
    "#    - team_id (int, foreign key to teams.id)\n",
    "#    - start_date (date)\n",
    "#    - end_date (date)\n",
    "# 5. Insert the following data into the tables:\n",
    "#    - players: (1, 'Cristiano Ronaldo', 35, 'forward'),\n",
    "#               (2, 'Lionel Messi', 33, 'forward'),\n",
    "#               (3, 'Robert Lewandowski', 32, 'forward'),\n",
    "#               (4, 'Kevin De Bruyne', 29, 'midfielder'),\n",
    "#               (5, 'Neymar Jr.', 28, 'forward'),\n",
    "#               (6, 'Mohamed Salah', 28, 'forward'),\n",
    "#               (7, 'Sadio Mane', 28, 'forward'),\n",
    "#               (8, 'Virgil van Dijk', 29, 'defender')\n",
    "#    - teams: (1, 'Juventus', 'Turin', 'Italy'),\n",
    "#             (2, 'Barcelona', 'Barcelona', 'Spain'),\n",
    "#             (3, 'Bayern Munich', 'Munich', 'Germany'),\n",
    "#             (4, 'Manchester City', 'Manchester', 'England'),\n",
    "#             (5, 'Paris Saint-Germain', 'Paris', 'France'),\n",
    "#             (6, 'Liverpool', 'Liverpool', 'England')\n",
    "#    - player_teams: (1, 1, 1, '2018-07-10', '2022-07-10'),\n",
    "#                    (2, 2, 2, '2004-07-01', '2021-06-30'),\n",
    "#                    (3, 3, 3, '2014-07-01', '2023-06-30'),\n",
    "#                    (4, 4, 4, '2015-08-30', '2023-06-30'),\n",
    "#                    (5, 5, 5, '2017-08-03', '2022-08-03'),\n",
    "#                    (6, 6, 6, '2017-06-22', '2023-06-30'),\n",
    "#                    (7, 7, 6, '2016-06-28', '2023-06-30'),\n",
    "#                    (8, 8, 6, '2018-01-01', '2023-06-30')\n",
    "# 6. Query the database to get the following information:\n",
    "#    - List of all players\n",
    "#    - List of all teams\n",
    "#    - List of all players who play for Liverpool\n",
    "#    - List of all players who play in England\n",
    "#    - List of all players who play in England and are forwards\n",
    "#    - List of all players who play in England and are forwards and are under 30\n",
    "#    - List of all players who play in England and are forwards and are under 30 and play for Liverpool\n",
    "#    - List of all players who play in England and are forwards and are under 30 and play for Liverpool or Barcelona\n",
    "#    - List of all players who play in England and are forwards and are under 30 and play for Liverpool or Barcelona and their age\n",
    "#    - List of all players who play in England and are forwards and are under 30 and play for Liverpool or Barcelona and their age and position\n",
    "#    - List of all players who play in England and are forwards and are under 30 and play for Liverpool or Barcelona and their age and position and team name\n"
   ]
  }
 ],
 "metadata": {
  "language_info": {
   "name": "python"
  }
 },
 "nbformat": 4,
 "nbformat_minor": 2
}
